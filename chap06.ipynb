{
 "cells": [
  {
   "cell_type": "code",
   "execution_count": 1,
   "id": "dcbf940b",
   "metadata": {},
   "outputs": [
    {
     "name": "stdout",
     "output_type": "stream",
     "text": [
      "Note: you may need to restart the kernel to use updated packages.\n"
     ]
    }
   ],
   "source": [
    "%pip install -qU duckduckgo-search langchain-community"
   ]
  },
  {
   "cell_type": "code",
   "execution_count": 4,
   "id": "b9c3d225",
   "metadata": {},
   "outputs": [
    {
     "name": "stdout",
     "output_type": "stream",
     "text": [
      "Note: you may need to restart the kernel to use updated packages.\n"
     ]
    }
   ],
   "source": [
    "%pip install -qU langgraph"
   ]
  },
  {
   "cell_type": "code",
   "execution_count": 7,
   "id": "c0bdb05b",
   "metadata": {},
   "outputs": [
    {
     "name": "stdout",
     "output_type": "stream",
     "text": [
      "Note: you may need to restart the kernel to use updated packages.\n"
     ]
    }
   ],
   "source": [
    "%pip install -qU ddgs"
   ]
  },
  {
   "cell_type": "code",
   "execution_count": null,
   "id": "125c3339",
   "metadata": {},
   "outputs": [
    {
     "data": {
      "image/png": "[encoded data removed]",
      "text/plain": [
       "<IPython.core.display.Image object>"
      ]
     },
     "metadata": {},
     "output_type": "display_data"
    }
   ],
   "source": [
    "import ast\n",
    "from typing import Annotated,TypedDict\n",
    "\n",
    "from langchain_community.tools import DuckDuckGoSearchRun\n",
    "from langchain_core.tools import tool\n",
    "from langchain_ollama import ChatOllama\n",
    "\n",
    "from langgraph.graph import START,END,StateGraph\n",
    "from langgraph.graph import add_messages\n",
    "from langgraph.prebuilt import ToolNode, tools_condition\n",
    "\n",
    "\n",
    "@tool\n",
    "def calculator(query:str) -> str:\n",
    "    \"\"\"A simple calculator tool. Input should be a mathematical expression.\"\"\"\n",
    "    return ast.literal_eval(query)\n",
    "\n",
    "search = DuckDuckGoSearchRun()\n",
    "tools = [search, calculator]\n",
    "model =ChatOllama(model=\"llama3.1\")\n",
    "\n",
    "class State(TypedDict):\n",
    "    messages : Annotated[list, add_messages]\n",
    "\n",
    "def model_node(state:State):\n",
    "    res = model.invoke(state[\"messages\"])\n",
    "    return {\"messages\": res}\n",
    "\n",
    "builder = StateGraph(State) \n",
    "builder.add_node(\"model\", model_node)\n",
    "builder.add_node(\"tools\", ToolNode(tools))\n",
    "builder.add_edge(START,\"model\")\n",
    "builder.add_conditional_edges(\"model\", tools_condition)\n",
    "builder.add_edge(\"tools\", \"model\")\n",
    "graph = builder.compile()\n",
    "\n",
    "from IPython.display import Image, display\n",
    "display(Image(graph.get_graph().draw_mermaid_png()))\n"
   ]
  },
  {
   "cell_type": "code",
   "execution_count": 11,
   "id": "066110cb",
   "metadata": {},
   "outputs": [
    {
     "name": "stdout",
     "output_type": "stream",
     "text": [
      "{'model': {'messages': AIMessage(content='The 30th President of the United States was Calvin Coolidge. He died on January 5, 1933.\\n\\nCalvin Coolidge was born on July 4, 1872. Therefore, when he passed away in 1933 at the age of 60.', additional_kwargs={}, response_metadata={'model': 'llama3.1', 'created_at': '2025-09-09T12:06:59.366618602Z', 'done': True, 'done_reason': 'stop', 'total_duration': 9348001502, 'load_duration': 3717743526, 'prompt_eval_count': 25, 'prompt_eval_duration': 757415002, 'eval_count': 58, 'eval_duration': 4871917444, 'model_name': 'llama3.1'}, id='run--b74c00de-5d8c-4611-a6fb-c9ed5b2bbcf9-0', usage_metadata={'input_tokens': 25, 'output_tokens': 58, 'total_tokens': 83})}}\n"
     ]
    }
   ],
   "source": [
    "from langchain_core.messages import HumanMessage, SystemMessage\n",
    "\n",
    "input = {\"messages\": [HumanMessage(\"How old was the 30th president of the USA when he died?\")]}\n",
    "for c in graph.stream(input):\n",
    "    print(c)"
   ]
  },
  {
   "cell_type": "markdown",
   "id": "26e68877",
   "metadata": {},
   "source": [
    "# P143"
   ]
  },
  {
   "cell_type": "code",
   "execution_count": 12,
   "id": "18c356cf",
   "metadata": {},
   "outputs": [
    {
     "data": {
      "image/png": "[encoded data removed]",
      "text/plain": [
       "<IPython.core.display.Image object>"
      ]
     },
     "metadata": {},
     "output_type": "display_data"
    }
   ],
   "source": [
    "import ast\n",
    "from typing import Annotated,TypedDict\n",
    "from uuid import uuid4\n",
    "\n",
    "from langchain_community.tools import DuckDuckGoSearchRun\n",
    "from langchain_core.messages import HumanMessage, SystemMessage,AIMessage, ToolCall\n",
    "from langchain_core.tools import tool\n",
    "from langchain_ollama import ChatOllama\n",
    "\n",
    "from langgraph.graph import START,StateGraph\n",
    "from langgraph.graph import add_messages\n",
    "from langgraph.prebuilt import ToolNode, tools_condition\n",
    "\n",
    "\n",
    "@tool\n",
    "def calculator(query:str) -> str:\n",
    "    \"\"\"A simple calculator tool. Input should be a mathematical expression.\"\"\"\n",
    "    return ast.literal_eval(query)\n",
    "\n",
    "search = DuckDuckGoSearchRun()\n",
    "tools = [search, calculator]\n",
    "model =ChatOllama(model=\"llama3.1\",temperature=0.1).bind_tools(tools)\n",
    "\n",
    "class State(TypedDict):\n",
    "    messages : Annotated[list, add_messages]\n",
    "\n",
    "def model_node(state:State):\n",
    "    res = model.invoke(state[\"messages\"])\n",
    "    return {\"messages\": res}\n",
    "\n",
    "def first_model(state: State) -> State:\n",
    "    query =state[\"messages\"][-1].content\n",
    "    search_tool_call =ToolCall(name=\"duckcuck_search\", args ={\"query\":query}, id=uuid4().hex)\n",
    "    return {\"messages\":AIMessage(content=\"\",tool_calls=[search_tool_call])}\n",
    "\n",
    "\n",
    "builder = StateGraph(State) \n",
    "builder.add_node(\"first_model\", first_model)\n",
    "builder.add_node(\"model\", model_node)\n",
    "builder.add_node(\"tools\", ToolNode(tools))\n",
    "builder.add_edge(START,\"first_model\")\n",
    "builder.add_edge(\"first_model\", \"tools\")\n",
    "builder.add_conditional_edges(\"model\", tools_condition)\n",
    "builder.add_edge(\"tools\", \"model\")\n",
    "\n",
    "graph = builder.compile()\n",
    "\n",
    "from IPython.display import Image, display\n",
    "display(Image(graph.get_graph().draw_mermaid_png()))"
   ]
  },
  {
   "cell_type": "code",
   "execution_count": 13,
   "id": "dc049d29",
   "metadata": {},
   "outputs": [
    {
     "name": "stdout",
     "output_type": "stream",
     "text": [
      "{'first_model': {'messages': AIMessage(content='', additional_kwargs={}, response_metadata={}, id='a840b308-f6de-4c6a-8906-f5bb0c078761', tool_calls=[{'name': 'duckcuck_search', 'args': {'query': 'How old was the 30th president of the USA when he died?'}, 'id': '414900e1396a4e838a08fbad3630bdd3', 'type': 'tool_call'}])}}\n",
      "{'tools': {'messages': [ToolMessage(content='Error: duckcuck_search is not a valid tool, try one of [duckduckgo_search, calculator].', name='duckcuck_search', id='3d247432-fd3d-4358-9a85-661851a1a80d', tool_call_id='414900e1396a4e838a08fbad3630bdd3', status='error')]}}\n",
      "{'model': {'messages': AIMessage(content='', additional_kwargs={}, response_metadata={'model': 'llama3.1', 'created_at': '2025-09-09T12:40:45.784873516Z', 'done': True, 'done_reason': 'stop', 'total_duration': 7616613984, 'load_duration': 2052317937, 'prompt_eval_count': 137, 'prompt_eval_duration': 3821291654, 'eval_count': 21, 'eval_duration': 1741495811, 'model_name': 'llama3.1'}, id='run--0e2a2560-2166-42df-9b7f-59c2bbd65876-0', tool_calls=[{'name': 'calculator', 'args': {'query': 'age of Calvin Coolidge at death'}, 'id': 'c3dc2ac4-9b68-4a20-b38d-a423ebb47383', 'type': 'tool_call'}], usage_metadata={'input_tokens': 137, 'output_tokens': 21, 'total_tokens': 158})}}\n",
      "{'tools': {'messages': [ToolMessage(content=\"Error: SyntaxError('invalid syntax', ('<unknown>', 1, 5, 'age of Calvin Coolidge at death', 1, 7))\\n Please fix your mistakes.\", name='calculator', id='ea9c68f0-401b-4bce-9af9-74aa08a83a79', tool_call_id='c3dc2ac4-9b68-4a20-b38d-a423ebb47383', status='error')]}}\n",
      "{'model': {'messages': AIMessage(content='', additional_kwargs={}, response_metadata={'model': 'llama3.1', 'created_at': '2025-09-09T12:40:49.266995498Z', 'done': True, 'done_reason': 'stop', 'total_duration': 3478363719, 'load_duration': 43488246, 'prompt_eval_count': 206, 'prompt_eval_duration': 1428960120, 'eval_count': 24, 'eval_duration': 2004267102, 'model_name': 'llama3.1'}, id='run--8e88458e-ce18-4962-acf7-795b919ac6ad-0', tool_calls=[{'name': 'duckduckgo_search', 'args': {'query': 'Calvin Coolidge age at death'}, 'id': '52727717-1313-4d09-ac0b-b939f84ddc71', 'type': 'tool_call'}], usage_metadata={'input_tokens': 206, 'output_tokens': 24, 'total_tokens': 230})}}\n",
      "{'tools': {'messages': [ToolMessage(content='2 days ago - On June 30, 1924, Calvin Jr. played tennis with his brother on the White House tennis courts without putting on socks and developed a blister on one of his toes. The blister subsequently degenerated into sepsis. He died a little over a week later at the age of 16. Coolidge never forgave himself ... 4 weeks ago - Calvin Coolidge (born John Calvin Coolidge Jr.; July 4, 1872 – January 5, 1933 ) was the 30th president of the United States between 1923 and 1929. He was a conservative who supported less intervention in business and lower taxes. He was the only president of the United States to be born on ... 3 weeks ago - died in Plymouth, Vermont on March 18, 1926, thirteen days before his 81st birthday . He was buried at Plymouth Notch Cemetery. In 1868, Coolidge married Victoria Josephine Moor (born 1846). They were the parents of two children, son Calvin, and daughter Abigail (1875–1890). June 3, 2025 - Well into his 80s , Coolidge was seen shuttling back and forth from his home near the Calvin Coolidge Historical Site to collect his mail at the old post office located on the historic site. January 1, 2025 - The death of his teenaged son really took the light out of his life. ... Jimmy Carter was 8 when he died. ... He definitely would’ve loved this headline. No frills, to the point. Calvin Coolidge is dead. ... Tragic day. Fantastic man, fantastic president, RIP. ... Coolidge was rumoured to have severe and almost borderline manic depression being known to sleep for above 12 hours a day and to frequently avoid human interaction reportedly for days at ...', name='duckduckgo_search', id='2fc18634-2952-42dd-a5cf-c30c0817e269', tool_call_id='52727717-1313-4d09-ac0b-b939f84ddc71')]}}\n",
      "{'model': {'messages': AIMessage(content='The 30th President of the USA, Calvin Coolidge, was 81 years old when he died on January 5, 1933.', additional_kwargs={}, response_metadata={'model': 'llama3.1', 'created_at': '2025-09-09T12:41:04.927568483Z', 'done': True, 'done_reason': 'stop', 'total_duration': 14573985991, 'load_duration': 43272660, 'prompt_eval_count': 625, 'prompt_eval_duration': 11715844712, 'eval_count': 31, 'eval_duration': 2811794253, 'model_name': 'llama3.1'}, id='run--eb5d52de-5bb0-4f2d-ab46-412a025e77e7-0', usage_metadata={'input_tokens': 625, 'output_tokens': 31, 'total_tokens': 656})}}\n"
     ]
    }
   ],
   "source": [
    "input = {\"messages\": [HumanMessage(\"How old was the 30th president of the USA when he died?\")]}\n",
    "for c in graph.stream(input):\n",
    "    print(c)"
   ]
  }
 ],
 "metadata": {
  "kernelspec": {
   "display_name": "LangChain",
   "language": "python",
   "name": "python3"
  },
  "language_info": {
   "codemirror_mode": {
    "name": "ipython",
    "version": 3
   },
   "file_extension": ".py",
   "mimetype": "text/x-python",
   "name": "python",
   "nbconvert_exporter": "python",
   "pygments_lexer": "ipython3",
   "version": "3.12.11"
  }
 },
 "nbformat": 4,
 "nbformat_minor": 5
}
