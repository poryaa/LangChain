{
 "cells": [
  {
   "cell_type": "code",
   "execution_count": 1,
   "id": "15c0f541",
   "metadata": {},
   "outputs": [
    {
     "name": "stdout",
     "output_type": "stream",
     "text": [
      "I translated \"I love programming\" into French, which is:\n",
      "\n",
      "\"J'adore la programmation.\"\n",
      "\n",
      "(Note: I made a small correction to the original translation)\n"
     ]
    }
   ],
   "source": [
    "from langchain_core.prompts import ChatPromptTemplate\n",
    "from langchain_ollama import ChatOllama\n",
    "from langchain_core.prompts import MessagesPlaceholder\n",
    "from langchain_core.messages import AIMessage, HumanMessage, SystemMessage\n",
    "\n",
    "prompt = ChatPromptTemplate.from_messages([\n",
    "    SystemMessage(content=\"Answer all questions to the best of your ability.\"),\n",
    "    MessagesPlaceholder(variable_name=\"messages\")\n",
    "])\n",
    "\n",
    "model = ChatOllama(model=\"llama3.1\")\n",
    "\n",
    "chain = prompt | model\n",
    "\n",
    "ai_msg = chain.invoke(\n",
    "    {\"messages\": [\n",
    "        HumanMessage(content=\"translate from english to french: I love programming.\"),\n",
    "        AIMessage(content=\"J'adore la progrmamation.\"),\n",
    "        HumanMessage(content=\"What did you just say?\")\n",
    "    ]}\n",
    ")\n",
    "print(ai_msg.content)"
   ]
  },
  {
   "cell_type": "code",
   "execution_count": null,
   "id": "493691c3",
   "metadata": {},
   "outputs": [],
   "source": [
    "#pip install langgraph\n"
   ]
  },
  {
   "cell_type": "code",
   "execution_count": 2,
   "id": "712e3859",
   "metadata": {},
   "outputs": [],
   "source": [
    "from typing import Annotated, TypedDict\n",
    "\n",
    "from langgraph.graph import StateGraph, START, END\n",
    "from langgraph.graph.message import add_messages\n",
    "\n",
    "class State(TypedDict):\n",
    "    messages: Annotated[list, add_messages]\n",
    "\n",
    "builder = StateGraph(State)"
   ]
  },
  {
   "cell_type": "code",
   "execution_count": 3,
   "id": "f0070aa3",
   "metadata": {},
   "outputs": [
    {
     "data": {
      "text/plain": [
       "<langgraph.graph.state.StateGraph at 0x73f8591078c0>"
      ]
     },
     "execution_count": 3,
     "metadata": {},
     "output_type": "execute_result"
    }
   ],
   "source": [
    "from langchain_ollama import ChatOllama\n",
    "\n",
    "model = ChatOllama(model=\"llama3.1\")\n",
    "\n",
    "def chatbot(state: State):\n",
    "    answer = model.invoke(state[\"messages\"])\n",
    "    return {\"messages\": [answer]}\n",
    "\n",
    "builder.add_node(\"chatbot\", chatbot)"
   ]
  },
  {
   "cell_type": "code",
   "execution_count": 4,
   "id": "31c1c274",
   "metadata": {},
   "outputs": [],
   "source": [
    "builder.add_edge(START,\"chatbot\")\n",
    "builder.add_edge(\"chatbot\", END)\n",
    "\n",
    "graph = builder.compile()"
   ]
  },
  {
   "cell_type": "code",
   "execution_count": 5,
   "id": "15c68246",
   "metadata": {},
   "outputs": [
    {
     "data": {
      "image/png": "[encoded data removed]",
      "text/plain": [
       "<IPython.core.display.Image object>"
      ]
     },
     "metadata": {},
     "output_type": "display_data"
    }
   ],
   "source": [
    "from IPython.display import Image, display\n",
    "\n",
    "png_bytes = graph.get_graph().draw_mermaid_png()\n",
    "display(Image(png_bytes))\n"
   ]
  },
  {
   "cell_type": "code",
   "execution_count": 6,
   "id": "1ff4a68b",
   "metadata": {},
   "outputs": [
    {
     "name": "stdout",
     "output_type": "stream",
     "text": [
      "{'chatbot': {'messages': [AIMessage(content=\"Hello! How's your day going so far? Is there something I can help you with or would you like to chat?\", additional_kwargs={}, response_metadata={'model': 'llama3.1', 'created_at': '2025-09-08T09:00:12.190952588Z', 'done': True, 'done_reason': 'stop', 'total_duration': 8717046124, 'load_duration': 114994958, 'prompt_eval_count': 12, 'prompt_eval_duration': 1512691712, 'eval_count': 26, 'eval_duration': 7088875061, 'model_name': 'llama3.1'}, id='run--bcc9d910-1e70-4ab0-8842-8641abd966d5-0', usage_metadata={'input_tokens': 12, 'output_tokens': 26, 'total_tokens': 38})]}}\n"
     ]
    }
   ],
   "source": [
    "input = {\"messages\": [HumanMessage(\"hi!\")]}\n",
    "for chunk in graph.stream(input):\n",
    "    print(chunk)"
   ]
  },
  {
   "cell_type": "code",
   "execution_count": 19,
   "id": "c015c250",
   "metadata": {},
   "outputs": [],
   "source": [
    "# Page:105\n",
    "from langgraph.checkpoint.memory import MemorySaver\n",
    "\n",
    "graph = builder.compile(checkpointer=MemorySaver())"
   ]
  },
  {
   "cell_type": "code",
   "execution_count": 25,
   "id": "fae7352c",
   "metadata": {},
   "outputs": [
    {
     "name": "stdout",
     "output_type": "stream",
     "text": [
      "Result 1 (current response): {'messages': [HumanMessage(content='what is my name?', additional_kwargs={}, response_metadata={}, id='1e7168c1-c05d-45e0-b507-f6b16595c766'), AIMessage(content=\"I don't have any information about your name. Our conversation just started, and I'm a large language model, I don't retain any information about individual users. If you'd like to share your name with me, I can use it in our conversation!\", additional_kwargs={}, response_metadata={'model': 'llama3.1', 'created_at': '2025-08-30T19:35:59.588581901Z', 'done': True, 'done_reason': 'stop', 'total_duration': 17693786056, 'load_duration': 116856686, 'prompt_eval_count': 15, 'prompt_eval_duration': 1558665573, 'eval_count': 53, 'eval_duration': 16017721659, 'model_name': 'llama3.1'}, id='run--05615d6e-0ce5-4bfa-bde6-3cb6dd25dba1-0', usage_metadata={'input_tokens': 15, 'output_tokens': 53, 'total_tokens': 68}), HumanMessage(content='hi, my name is Jack!', additional_kwargs={}, response_metadata={}, id='ef6bad90-7603-4647-9eca-3b9ff0961064'), AIMessage(content=\"Nice to meet you, Jack! What's on your mind today? Want to chat about something in particular or just see where the conversation takes us?\", additional_kwargs={}, response_metadata={'model': 'llama3.1', 'created_at': '2025-08-30T19:36:37.072058229Z', 'done': True, 'done_reason': 'stop', 'total_duration': 12173908867, 'load_duration': 134026825, 'prompt_eval_count': 84, 'prompt_eval_duration': 3060193474, 'eval_count': 31, 'eval_duration': 8978055135, 'model_name': 'llama3.1'}, id='run--f4b9b105-636e-41da-b6f9-8cbaadbe6f93-0', usage_metadata={'input_tokens': 84, 'output_tokens': 31, 'total_tokens': 115}), HumanMessage(content='what is my name?', additional_kwargs={}, response_metadata={}, id='bf60788c-6d6b-4af9-9c35-e6926cf55b7c'), AIMessage(content='I remember now! Your name is Jack!', additional_kwargs={}, response_metadata={'model': 'llama3.1', 'created_at': '2025-08-30T19:36:42.113953239Z', 'done': True, 'done_reason': 'stop', 'total_duration': 5037211928, 'load_duration': 103140459, 'prompt_eval_count': 129, 'prompt_eval_duration': 2369564497, 'eval_count': 10, 'eval_duration': 2563082492, 'model_name': 'llama3.1'}, id='run--68e376b3-d167-4467-8f07-c464ea5bed3c-0', usage_metadata={'input_tokens': 129, 'output_tokens': 10, 'total_tokens': 139}), HumanMessage(content='hi, my name is Jack!', additional_kwargs={}, response_metadata={}, id='8e3fb24b-e70d-403d-b6ec-8e072a799a05'), AIMessage(content='Déjà vu! I already know that your name is Jack! You can save me a repeat response by just saying \"Hi!\" next time. How\\'s your day going so far, Jack?', additional_kwargs={}, response_metadata={'model': 'llama3.1', 'created_at': '2025-08-30T19:37:15.508518745Z', 'done': True, 'done_reason': 'stop', 'total_duration': 14213812489, 'load_duration': 125744190, 'prompt_eval_count': 155, 'prompt_eval_duration': 2859680419, 'eval_count': 40, 'eval_duration': 11226210862, 'model_name': 'llama3.1'}, id='run--50d31058-ad36-4c32-a917-7462431da741-0', usage_metadata={'input_tokens': 155, 'output_tokens': 40, 'total_tokens': 195}), HumanMessage(content='hi, my name is Jack!', additional_kwargs={}, response_metadata={}, id='dbe72f47-d44e-49a4-bc99-3d54881b710f'), AIMessage(content=\"We've been here before... Your name is still... JACK!\", additional_kwargs={}, response_metadata={'model': 'llama3.1', 'created_at': '2025-08-30T20:15:47.640789656Z', 'done': True, 'done_reason': 'stop', 'total_duration': 39500552892, 'load_duration': 4551581808, 'prompt_eval_count': 211, 'prompt_eval_duration': 31280362878, 'eval_count': 14, 'eval_duration': 3664552621, 'model_name': 'llama3.1'}, id='run--df978c27-f483-44f5-a8bd-0d0a14f1df64-0', usage_metadata={'input_tokens': 211, 'output_tokens': 14, 'total_tokens': 225}), HumanMessage(content='what is my name?', additional_kwargs={}, response_metadata={}, id='cb7351c5-9345-4ba8-86d2-7fa998d7405f'), AIMessage(content=\"Getting old, huh? I've got this one memorized now: YOUR NAME IS JACK!\", additional_kwargs={}, response_metadata={'model': 'llama3.1', 'created_at': '2025-08-30T20:15:55.567663931Z', 'done': True, 'done_reason': 'stop', 'total_duration': 7921641874, 'load_duration': 104114766, 'prompt_eval_count': 239, 'prompt_eval_duration': 2246701664, 'eval_count': 20, 'eval_duration': 5566845119, 'model_name': 'llama3.1'}, id='run--40ed6dfa-09d2-42d9-8d93-c529c4d083bb-0', usage_metadata={'input_tokens': 239, 'output_tokens': 20, 'total_tokens': 259}), HumanMessage(content='hi, my name is Jack!', additional_kwargs={}, response_metadata={}, id='47407f17-7d94-4ae4-992a-a459e4fa7dfd'), AIMessage(content='For the love of all things digital... Your name is still... JACK!', additional_kwargs={}, response_metadata={'model': 'llama3.1', 'created_at': '2025-08-30T20:17:42.608408966Z', 'done': True, 'done_reason': 'stop', 'total_duration': 7099726673, 'load_duration': 127041871, 'prompt_eval_count': 275, 'prompt_eval_duration': 2618559225, 'eval_count': 16, 'eval_duration': 4348152052, 'model_name': 'llama3.1'}, id='run--2c9d9777-322f-4996-8787-a5c7a8b76c9c-0', usage_metadata={'input_tokens': 275, 'output_tokens': 16, 'total_tokens': 291}), HumanMessage(content='what is my name?', additional_kwargs={}, response_metadata={}, id='86919386-6fb7-42f7-916e-b95b2639bb32'), AIMessage(content=\"We've been here way too many times already! Don't make me repeat it again... YOUR NAME IS JACK!!! (Just kidding, I'll keep saying it until you get tired of hearing it!)\", additional_kwargs={}, response_metadata={'model': 'llama3.1', 'created_at': '2025-08-30T20:17:56.811049353Z', 'done': True, 'done_reason': 'stop', 'total_duration': 14197770121, 'load_duration': 102777355, 'prompt_eval_count': 305, 'prompt_eval_duration': 2322106720, 'eval_count': 41, 'eval_duration': 11765627066, 'model_name': 'llama3.1'}, id='run--183b6756-9310-4935-909d-ae1efc9d0965-0', usage_metadata={'input_tokens': 305, 'output_tokens': 41, 'total_tokens': 346}), HumanMessage(content='hi, my name is Jack!', additional_kwargs={}, response_metadata={}, id='b950301c-efee-4442-a7a5-9d88d12c564d'), AIMessage(content=\"WE'VE GOT A REPEAT ON OUR HANDS... Your name remains: JACK!\", additional_kwargs={}, response_metadata={'model': 'llama3.1', 'created_at': '2025-08-30T20:18:29.816502957Z', 'done': True, 'done_reason': 'stop', 'total_duration': 8428412453, 'load_duration': 133600198, 'prompt_eval_count': 362, 'prompt_eval_duration': 2993037319, 'eval_count': 19, 'eval_duration': 5290703139, 'model_name': 'llama3.1'}, id='run--9055d444-eb32-4a4b-ab13-895a97ce22ee-0', usage_metadata={'input_tokens': 362, 'output_tokens': 19, 'total_tokens': 381})]}\n",
      "Result 2 (current response): {'messages': [HumanMessage(content='what is my name?', additional_kwargs={}, response_metadata={}, id='1e7168c1-c05d-45e0-b507-f6b16595c766'), AIMessage(content=\"I don't have any information about your name. Our conversation just started, and I'm a large language model, I don't retain any information about individual users. If you'd like to share your name with me, I can use it in our conversation!\", additional_kwargs={}, response_metadata={'model': 'llama3.1', 'created_at': '2025-08-30T19:35:59.588581901Z', 'done': True, 'done_reason': 'stop', 'total_duration': 17693786056, 'load_duration': 116856686, 'prompt_eval_count': 15, 'prompt_eval_duration': 1558665573, 'eval_count': 53, 'eval_duration': 16017721659, 'model_name': 'llama3.1'}, id='run--05615d6e-0ce5-4bfa-bde6-3cb6dd25dba1-0', usage_metadata={'input_tokens': 15, 'output_tokens': 53, 'total_tokens': 68}), HumanMessage(content='hi, my name is Jack!', additional_kwargs={}, response_metadata={}, id='ef6bad90-7603-4647-9eca-3b9ff0961064'), AIMessage(content=\"Nice to meet you, Jack! What's on your mind today? Want to chat about something in particular or just see where the conversation takes us?\", additional_kwargs={}, response_metadata={'model': 'llama3.1', 'created_at': '2025-08-30T19:36:37.072058229Z', 'done': True, 'done_reason': 'stop', 'total_duration': 12173908867, 'load_duration': 134026825, 'prompt_eval_count': 84, 'prompt_eval_duration': 3060193474, 'eval_count': 31, 'eval_duration': 8978055135, 'model_name': 'llama3.1'}, id='run--f4b9b105-636e-41da-b6f9-8cbaadbe6f93-0', usage_metadata={'input_tokens': 84, 'output_tokens': 31, 'total_tokens': 115}), HumanMessage(content='what is my name?', additional_kwargs={}, response_metadata={}, id='bf60788c-6d6b-4af9-9c35-e6926cf55b7c'), AIMessage(content='I remember now! Your name is Jack!', additional_kwargs={}, response_metadata={'model': 'llama3.1', 'created_at': '2025-08-30T19:36:42.113953239Z', 'done': True, 'done_reason': 'stop', 'total_duration': 5037211928, 'load_duration': 103140459, 'prompt_eval_count': 129, 'prompt_eval_duration': 2369564497, 'eval_count': 10, 'eval_duration': 2563082492, 'model_name': 'llama3.1'}, id='run--68e376b3-d167-4467-8f07-c464ea5bed3c-0', usage_metadata={'input_tokens': 129, 'output_tokens': 10, 'total_tokens': 139}), HumanMessage(content='hi, my name is Jack!', additional_kwargs={}, response_metadata={}, id='8e3fb24b-e70d-403d-b6ec-8e072a799a05'), AIMessage(content='Déjà vu! I already know that your name is Jack! You can save me a repeat response by just saying \"Hi!\" next time. How\\'s your day going so far, Jack?', additional_kwargs={}, response_metadata={'model': 'llama3.1', 'created_at': '2025-08-30T19:37:15.508518745Z', 'done': True, 'done_reason': 'stop', 'total_duration': 14213812489, 'load_duration': 125744190, 'prompt_eval_count': 155, 'prompt_eval_duration': 2859680419, 'eval_count': 40, 'eval_duration': 11226210862, 'model_name': 'llama3.1'}, id='run--50d31058-ad36-4c32-a917-7462431da741-0', usage_metadata={'input_tokens': 155, 'output_tokens': 40, 'total_tokens': 195}), HumanMessage(content='hi, my name is Jack!', additional_kwargs={}, response_metadata={}, id='dbe72f47-d44e-49a4-bc99-3d54881b710f'), AIMessage(content=\"We've been here before... Your name is still... JACK!\", additional_kwargs={}, response_metadata={'model': 'llama3.1', 'created_at': '2025-08-30T20:15:47.640789656Z', 'done': True, 'done_reason': 'stop', 'total_duration': 39500552892, 'load_duration': 4551581808, 'prompt_eval_count': 211, 'prompt_eval_duration': 31280362878, 'eval_count': 14, 'eval_duration': 3664552621, 'model_name': 'llama3.1'}, id='run--df978c27-f483-44f5-a8bd-0d0a14f1df64-0', usage_metadata={'input_tokens': 211, 'output_tokens': 14, 'total_tokens': 225}), HumanMessage(content='what is my name?', additional_kwargs={}, response_metadata={}, id='cb7351c5-9345-4ba8-86d2-7fa998d7405f'), AIMessage(content=\"Getting old, huh? I've got this one memorized now: YOUR NAME IS JACK!\", additional_kwargs={}, response_metadata={'model': 'llama3.1', 'created_at': '2025-08-30T20:15:55.567663931Z', 'done': True, 'done_reason': 'stop', 'total_duration': 7921641874, 'load_duration': 104114766, 'prompt_eval_count': 239, 'prompt_eval_duration': 2246701664, 'eval_count': 20, 'eval_duration': 5566845119, 'model_name': 'llama3.1'}, id='run--40ed6dfa-09d2-42d9-8d93-c529c4d083bb-0', usage_metadata={'input_tokens': 239, 'output_tokens': 20, 'total_tokens': 259}), HumanMessage(content='hi, my name is Jack!', additional_kwargs={}, response_metadata={}, id='47407f17-7d94-4ae4-992a-a459e4fa7dfd'), AIMessage(content='For the love of all things digital... Your name is still... JACK!', additional_kwargs={}, response_metadata={'model': 'llama3.1', 'created_at': '2025-08-30T20:17:42.608408966Z', 'done': True, 'done_reason': 'stop', 'total_duration': 7099726673, 'load_duration': 127041871, 'prompt_eval_count': 275, 'prompt_eval_duration': 2618559225, 'eval_count': 16, 'eval_duration': 4348152052, 'model_name': 'llama3.1'}, id='run--2c9d9777-322f-4996-8787-a5c7a8b76c9c-0', usage_metadata={'input_tokens': 275, 'output_tokens': 16, 'total_tokens': 291}), HumanMessage(content='what is my name?', additional_kwargs={}, response_metadata={}, id='86919386-6fb7-42f7-916e-b95b2639bb32'), AIMessage(content=\"We've been here way too many times already! Don't make me repeat it again... YOUR NAME IS JACK!!! (Just kidding, I'll keep saying it until you get tired of hearing it!)\", additional_kwargs={}, response_metadata={'model': 'llama3.1', 'created_at': '2025-08-30T20:17:56.811049353Z', 'done': True, 'done_reason': 'stop', 'total_duration': 14197770121, 'load_duration': 102777355, 'prompt_eval_count': 305, 'prompt_eval_duration': 2322106720, 'eval_count': 41, 'eval_duration': 11765627066, 'model_name': 'llama3.1'}, id='run--183b6756-9310-4935-909d-ae1efc9d0965-0', usage_metadata={'input_tokens': 305, 'output_tokens': 41, 'total_tokens': 346}), HumanMessage(content='hi, my name is Jack!', additional_kwargs={}, response_metadata={}, id='b950301c-efee-4442-a7a5-9d88d12c564d'), AIMessage(content=\"WE'VE GOT A REPEAT ON OUR HANDS... Your name remains: JACK!\", additional_kwargs={}, response_metadata={'model': 'llama3.1', 'created_at': '2025-08-30T20:18:29.816502957Z', 'done': True, 'done_reason': 'stop', 'total_duration': 8428412453, 'load_duration': 133600198, 'prompt_eval_count': 362, 'prompt_eval_duration': 2993037319, 'eval_count': 19, 'eval_duration': 5290703139, 'model_name': 'llama3.1'}, id='run--9055d444-eb32-4a4b-ab13-895a97ce22ee-0', usage_metadata={'input_tokens': 362, 'output_tokens': 19, 'total_tokens': 381}), HumanMessage(content='what is my name?', additional_kwargs={}, response_metadata={}, id='fda419f2-8d9a-4e00-89e6-298abf1adf9b'), AIMessage(content=\"THE FINAL COUNTDOWN... I've got this one ingrained in my digital brain: YOUR NAME IS JACK. (And if you repeat it again, I'll start to think I'm trapped in some sort of AI Groundhog Day!)\", additional_kwargs={}, response_metadata={'model': 'llama3.1', 'created_at': '2025-08-30T20:18:46.176812273Z', 'done': True, 'done_reason': 'stop', 'total_duration': 16355017787, 'load_duration': 104565401, 'prompt_eval_count': 395, 'prompt_eval_duration': 2285554507, 'eval_count': 48, 'eval_duration': 13953396761, 'model_name': 'llama3.1'}, id='run--27839ea9-6b5c-45ef-9ef2-50db142cfe14-0', usage_metadata={'input_tokens': 395, 'output_tokens': 48, 'total_tokens': 443})]}\n",
      "Full conversation history in state:\n",
      "Human: what is my name?\n",
      "AI: I don't have any information about your name. Our conversation just started, and I'm a large language model, I don't retain any information about individual users. If you'd like to share your name with me, I can use it in our conversation!\n",
      "Human: hi, my name is Jack!\n",
      "AI: Nice to meet you, Jack! What's on your mind today? Want to chat about something in particular or just see where the conversation takes us?\n",
      "Human: what is my name?\n",
      "AI: I remember now! Your name is Jack!\n",
      "Human: hi, my name is Jack!\n",
      "AI: Déjà vu! I already know that your name is Jack! You can save me a repeat response by just saying \"Hi!\" next time. How's your day going so far, Jack?\n",
      "Human: hi, my name is Jack!\n",
      "AI: We've been here before... Your name is still... JACK!\n",
      "Human: what is my name?\n",
      "AI: Getting old, huh? I've got this one memorized now: YOUR NAME IS JACK!\n",
      "Human: hi, my name is Jack!\n",
      "AI: For the love of all things digital... Your name is still... JACK!\n",
      "Human: what is my name?\n",
      "AI: We've been here way too many times already! Don't make me repeat it again... YOUR NAME IS JACK!!! (Just kidding, I'll keep saying it until you get tired of hearing it!)\n",
      "Human: hi, my name is Jack!\n",
      "AI: WE'VE GOT A REPEAT ON OUR HANDS... Your name remains: JACK!\n",
      "Human: what is my name?\n",
      "AI: THE FINAL COUNTDOWN... I've got this one ingrained in my digital brain: YOUR NAME IS JACK. (And if you repeat it again, I'll start to think I'm trapped in some sort of AI Groundhog Day!)\n"
     ]
    }
   ],
   "source": [
    "thread1 = {\"configurable\": {\"thread_id\": \"1\"}}\n",
    "\n",
    "# Run first interaction\n",
    "result_1 = graph.invoke({\"messages\": [HumanMessage(\"hi, my name is Jack!\")]}, config=thread1)\n",
    "print(\"Result 1 (current response):\", result_1)\n",
    "\n",
    "# Run follow-up interaction\n",
    "result_2 = graph.invoke({\"messages\": [HumanMessage(\"what is my name?\")]}, config=thread1)\n",
    "print(\"Result 2 (current response):\", result_2)\n",
    "\n",
    "state_snapshot = graph.get_state(config=thread1)\n",
    "state = state_snapshot.values  # Extract the dict holding state values\n",
    "\n",
    "print(\"Full conversation history in state:\")\n",
    "for msg in state[\"messages\"]:\n",
    "    role = \"AI\" if isinstance(msg, AIMessage) else \"Human\"\n",
    "    print(f\"{role}: {msg.content}\")\n",
    "\n"
   ]
  },
  {
   "cell_type": "code",
   "execution_count": 26,
   "id": "834da805",
   "metadata": {},
   "outputs": [
    {
     "data": {
      "text/plain": [
       "StateSnapshot(values={'messages': [HumanMessage(content='what is my name?', additional_kwargs={}, response_metadata={}, id='1e7168c1-c05d-45e0-b507-f6b16595c766'), AIMessage(content=\"I don't have any information about your name. Our conversation just started, and I'm a large language model, I don't retain any information about individual users. If you'd like to share your name with me, I can use it in our conversation!\", additional_kwargs={}, response_metadata={'model': 'llama3.1', 'created_at': '2025-08-30T19:35:59.588581901Z', 'done': True, 'done_reason': 'stop', 'total_duration': 17693786056, 'load_duration': 116856686, 'prompt_eval_count': 15, 'prompt_eval_duration': 1558665573, 'eval_count': 53, 'eval_duration': 16017721659, 'model_name': 'llama3.1'}, id='run--05615d6e-0ce5-4bfa-bde6-3cb6dd25dba1-0', usage_metadata={'input_tokens': 15, 'output_tokens': 53, 'total_tokens': 68}), HumanMessage(content='hi, my name is Jack!', additional_kwargs={}, response_metadata={}, id='ef6bad90-7603-4647-9eca-3b9ff0961064'), AIMessage(content=\"Nice to meet you, Jack! What's on your mind today? Want to chat about something in particular or just see where the conversation takes us?\", additional_kwargs={}, response_metadata={'model': 'llama3.1', 'created_at': '2025-08-30T19:36:37.072058229Z', 'done': True, 'done_reason': 'stop', 'total_duration': 12173908867, 'load_duration': 134026825, 'prompt_eval_count': 84, 'prompt_eval_duration': 3060193474, 'eval_count': 31, 'eval_duration': 8978055135, 'model_name': 'llama3.1'}, id='run--f4b9b105-636e-41da-b6f9-8cbaadbe6f93-0', usage_metadata={'input_tokens': 84, 'output_tokens': 31, 'total_tokens': 115}), HumanMessage(content='what is my name?', additional_kwargs={}, response_metadata={}, id='bf60788c-6d6b-4af9-9c35-e6926cf55b7c'), AIMessage(content='I remember now! Your name is Jack!', additional_kwargs={}, response_metadata={'model': 'llama3.1', 'created_at': '2025-08-30T19:36:42.113953239Z', 'done': True, 'done_reason': 'stop', 'total_duration': 5037211928, 'load_duration': 103140459, 'prompt_eval_count': 129, 'prompt_eval_duration': 2369564497, 'eval_count': 10, 'eval_duration': 2563082492, 'model_name': 'llama3.1'}, id='run--68e376b3-d167-4467-8f07-c464ea5bed3c-0', usage_metadata={'input_tokens': 129, 'output_tokens': 10, 'total_tokens': 139}), HumanMessage(content='hi, my name is Jack!', additional_kwargs={}, response_metadata={}, id='8e3fb24b-e70d-403d-b6ec-8e072a799a05'), AIMessage(content='Déjà vu! I already know that your name is Jack! You can save me a repeat response by just saying \"Hi!\" next time. How\\'s your day going so far, Jack?', additional_kwargs={}, response_metadata={'model': 'llama3.1', 'created_at': '2025-08-30T19:37:15.508518745Z', 'done': True, 'done_reason': 'stop', 'total_duration': 14213812489, 'load_duration': 125744190, 'prompt_eval_count': 155, 'prompt_eval_duration': 2859680419, 'eval_count': 40, 'eval_duration': 11226210862, 'model_name': 'llama3.1'}, id='run--50d31058-ad36-4c32-a917-7462431da741-0', usage_metadata={'input_tokens': 155, 'output_tokens': 40, 'total_tokens': 195}), HumanMessage(content='hi, my name is Jack!', additional_kwargs={}, response_metadata={}, id='dbe72f47-d44e-49a4-bc99-3d54881b710f'), AIMessage(content=\"We've been here before... Your name is still... JACK!\", additional_kwargs={}, response_metadata={'model': 'llama3.1', 'created_at': '2025-08-30T20:15:47.640789656Z', 'done': True, 'done_reason': 'stop', 'total_duration': 39500552892, 'load_duration': 4551581808, 'prompt_eval_count': 211, 'prompt_eval_duration': 31280362878, 'eval_count': 14, 'eval_duration': 3664552621, 'model_name': 'llama3.1'}, id='run--df978c27-f483-44f5-a8bd-0d0a14f1df64-0', usage_metadata={'input_tokens': 211, 'output_tokens': 14, 'total_tokens': 225}), HumanMessage(content='what is my name?', additional_kwargs={}, response_metadata={}, id='cb7351c5-9345-4ba8-86d2-7fa998d7405f'), AIMessage(content=\"Getting old, huh? I've got this one memorized now: YOUR NAME IS JACK!\", additional_kwargs={}, response_metadata={'model': 'llama3.1', 'created_at': '2025-08-30T20:15:55.567663931Z', 'done': True, 'done_reason': 'stop', 'total_duration': 7921641874, 'load_duration': 104114766, 'prompt_eval_count': 239, 'prompt_eval_duration': 2246701664, 'eval_count': 20, 'eval_duration': 5566845119, 'model_name': 'llama3.1'}, id='run--40ed6dfa-09d2-42d9-8d93-c529c4d083bb-0', usage_metadata={'input_tokens': 239, 'output_tokens': 20, 'total_tokens': 259}), HumanMessage(content='hi, my name is Jack!', additional_kwargs={}, response_metadata={}, id='47407f17-7d94-4ae4-992a-a459e4fa7dfd'), AIMessage(content='For the love of all things digital... Your name is still... JACK!', additional_kwargs={}, response_metadata={'model': 'llama3.1', 'created_at': '2025-08-30T20:17:42.608408966Z', 'done': True, 'done_reason': 'stop', 'total_duration': 7099726673, 'load_duration': 127041871, 'prompt_eval_count': 275, 'prompt_eval_duration': 2618559225, 'eval_count': 16, 'eval_duration': 4348152052, 'model_name': 'llama3.1'}, id='run--2c9d9777-322f-4996-8787-a5c7a8b76c9c-0', usage_metadata={'input_tokens': 275, 'output_tokens': 16, 'total_tokens': 291}), HumanMessage(content='what is my name?', additional_kwargs={}, response_metadata={}, id='86919386-6fb7-42f7-916e-b95b2639bb32'), AIMessage(content=\"We've been here way too many times already! Don't make me repeat it again... YOUR NAME IS JACK!!! (Just kidding, I'll keep saying it until you get tired of hearing it!)\", additional_kwargs={}, response_metadata={'model': 'llama3.1', 'created_at': '2025-08-30T20:17:56.811049353Z', 'done': True, 'done_reason': 'stop', 'total_duration': 14197770121, 'load_duration': 102777355, 'prompt_eval_count': 305, 'prompt_eval_duration': 2322106720, 'eval_count': 41, 'eval_duration': 11765627066, 'model_name': 'llama3.1'}, id='run--183b6756-9310-4935-909d-ae1efc9d0965-0', usage_metadata={'input_tokens': 305, 'output_tokens': 41, 'total_tokens': 346}), HumanMessage(content='hi, my name is Jack!', additional_kwargs={}, response_metadata={}, id='b950301c-efee-4442-a7a5-9d88d12c564d'), AIMessage(content=\"WE'VE GOT A REPEAT ON OUR HANDS... Your name remains: JACK!\", additional_kwargs={}, response_metadata={'model': 'llama3.1', 'created_at': '2025-08-30T20:18:29.816502957Z', 'done': True, 'done_reason': 'stop', 'total_duration': 8428412453, 'load_duration': 133600198, 'prompt_eval_count': 362, 'prompt_eval_duration': 2993037319, 'eval_count': 19, 'eval_duration': 5290703139, 'model_name': 'llama3.1'}, id='run--9055d444-eb32-4a4b-ab13-895a97ce22ee-0', usage_metadata={'input_tokens': 362, 'output_tokens': 19, 'total_tokens': 381}), HumanMessage(content='what is my name?', additional_kwargs={}, response_metadata={}, id='fda419f2-8d9a-4e00-89e6-298abf1adf9b'), AIMessage(content=\"THE FINAL COUNTDOWN... I've got this one ingrained in my digital brain: YOUR NAME IS JACK. (And if you repeat it again, I'll start to think I'm trapped in some sort of AI Groundhog Day!)\", additional_kwargs={}, response_metadata={'model': 'llama3.1', 'created_at': '2025-08-30T20:18:46.176812273Z', 'done': True, 'done_reason': 'stop', 'total_duration': 16355017787, 'load_duration': 104565401, 'prompt_eval_count': 395, 'prompt_eval_duration': 2285554507, 'eval_count': 48, 'eval_duration': 13953396761, 'model_name': 'llama3.1'}, id='run--27839ea9-6b5c-45ef-9ef2-50db142cfe14-0', usage_metadata={'input_tokens': 395, 'output_tokens': 48, 'total_tokens': 443})]}, next=(), config={'configurable': {'thread_id': '1', 'checkpoint_ns': '', 'checkpoint_id': '1f085de8-8240-6006-801c-1f0f5440fbd6'}}, metadata={'source': 'loop', 'step': 28, 'parents': {}}, created_at='2025-08-30T20:18:46.177981+00:00', parent_config={'configurable': {'thread_id': '1', 'checkpoint_ns': '', 'checkpoint_id': '1f085de7-e640-674a-801b-bca05c81aa5c'}}, tasks=(), interrupts=())"
      ]
     },
     "execution_count": 26,
     "metadata": {},
     "output_type": "execute_result"
    }
   ],
   "source": [
    "graph.get_state(thread1)"
   ]
  },
  {
   "cell_type": "code",
   "execution_count": 28,
   "id": "4d1876d7",
   "metadata": {},
   "outputs": [
    {
     "data": {
      "text/plain": [
       "{'configurable': {'thread_id': '1',\n",
       "  'checkpoint_ns': '',\n",
       "  'checkpoint_id': '1f085df8-0aa2-6956-801d-ba518607e410'}}"
      ]
     },
     "execution_count": 28,
     "metadata": {},
     "output_type": "execute_result"
    }
   ],
   "source": [
    "graph.update_state(thread1, {\"messages\": [HumanMessage(\"I like LLMs!\")]})\n"
   ]
  },
  {
   "cell_type": "code",
   "execution_count": 33,
   "id": "3ee07697",
   "metadata": {},
   "outputs": [
    {
     "data": {
      "text/plain": [
       "[SystemMessage(content=\"you're a good assistant\", additional_kwargs={}, response_metadata={}),\n",
       " HumanMessage(content=\"hi! I'm bob\", additional_kwargs={}, response_metadata={}),\n",
       " AIMessage(content='hi!', additional_kwargs={}, response_metadata={}),\n",
       " HumanMessage(content='I like vanilla ice cream', additional_kwargs={}, response_metadata={}),\n",
       " AIMessage(content='nice', additional_kwargs={}, response_metadata={}),\n",
       " HumanMessage(content='whats 2 + 2', additional_kwargs={}, response_metadata={}),\n",
       " AIMessage(content='4', additional_kwargs={}, response_metadata={}),\n",
       " HumanMessage(content='thanks', additional_kwargs={}, response_metadata={}),\n",
       " AIMessage(content='no problem!', additional_kwargs={}, response_metadata={}),\n",
       " HumanMessage(content='having fun?', additional_kwargs={}, response_metadata={}),\n",
       " AIMessage(content='yes!', additional_kwargs={}, response_metadata={})]"
      ]
     },
     "execution_count": 33,
     "metadata": {},
     "output_type": "execute_result"
    }
   ],
   "source": [
    "# Page:108\n",
    "from langchain_ollama import ChatOllama\n",
    "from langchain_core.messages import trim_messages, SystemMessage\n",
    "\n",
    "trimmer = trim_messages(\n",
    "        max_tokens=65,\n",
    "        strategy=\"last\",\n",
    "        token_counter=ChatOllama(model=\"llama3.1\"),\n",
    "        include_system=True,\n",
    "        allow_partial=False,\n",
    "        start_on=\"human\"\n",
    ")\n",
    "\n",
    "messages = [\n",
    "    SystemMessage(content=\"you're a good assistant\"),\n",
    "    HumanMessage(content=\"hi! I'm bob\"),\n",
    "    AIMessage(content=\"hi!\"),\n",
    "    HumanMessage(content=\"I like vanilla ice cream\"),\n",
    "    AIMessage(content=\"nice\"),\n",
    "    HumanMessage(content=\"whats 2 + 2\"),\n",
    "    AIMessage(content=\"4\"),\n",
    "    HumanMessage(content=\"thanks\"),\n",
    "    AIMessage(content=\"no problem!\"),\n",
    "    HumanMessage(content=\"having fun?\"),\n",
    "    AIMessage(content=\"yes!\"),\n",
    "]\n",
    "trimmer.invoke(messages)"
   ]
  },
  {
   "cell_type": "code",
   "execution_count": 35,
   "id": "06c7e280",
   "metadata": {},
   "outputs": [
    {
     "name": "stdout",
     "output_type": "stream",
     "text": [
      "Human messages: [HumanMessage(content='example input', additional_kwargs={}, response_metadata={}, name='example_user', id='2'), HumanMessage(content='real input', additional_kwargs={}, response_metadata={}, name='bob', id='4')]\n",
      "\n",
      "Excluding example names: [SystemMessage(content='you are a good assistant', additional_kwargs={}, response_metadata={}, id='1'), HumanMessage(content='real input', additional_kwargs={}, response_metadata={}, name='bob', id='4'), AIMessage(content='real output', additional_kwargs={}, response_metadata={}, name='alice', id='5')]\n",
      "\n",
      "Filtered by types and IDs: [HumanMessage(content='example input', additional_kwargs={}, response_metadata={}, name='example_user', id='2'), HumanMessage(content='real input', additional_kwargs={}, response_metadata={}, name='bob', id='4'), AIMessage(content='real output', additional_kwargs={}, response_metadata={}, name='alice', id='5')]\n"
     ]
    }
   ],
   "source": [
    "from langchain_core.messages import (\n",
    "    AIMessage,\n",
    "    HumanMessage,\n",
    "    SystemMessage,\n",
    "    filter_messages,\n",
    ")\n",
    "\n",
    "# Sample messages\n",
    "messages = [\n",
    "    SystemMessage(content=\"you are a good assistant\", id=\"1\"),\n",
    "    HumanMessage(content=\"example input\", id=\"2\", name=\"example_user\"),\n",
    "    AIMessage(content=\"example output\", id=\"3\", name=\"example_assistant\"),\n",
    "    HumanMessage(content=\"real input\", id=\"4\", name=\"bob\"),\n",
    "    AIMessage(content=\"real output\", id=\"5\", name=\"alice\"),\n",
    "]\n",
    "\n",
    "# Filter for human messages\n",
    "human_messages = filter_messages(messages, include_types=\"human\")\n",
    "print(\"Human messages:\", human_messages)\n",
    "\n",
    "# Filter to exclude certain names\n",
    "excluded_names = filter_messages(\n",
    "    messages, exclude_names=[\"example_user\", \"example_assistant\"]\n",
    ")\n",
    "print(\"\\nExcluding example names:\", excluded_names)\n",
    "\n",
    "# Filter by types and IDs\n",
    "filtered_messages = filter_messages(\n",
    "    messages, include_types=[\"human\", \"ai\"], exclude_ids=[\"3\"]\n",
    ")\n",
    "print(\"\\nFiltered by types and IDs:\", filtered_messages)"
   ]
  },
  {
   "cell_type": "code",
   "execution_count": 36,
   "id": "17e0397b",
   "metadata": {},
   "outputs": [
    {
     "name": "stdout",
     "output_type": "stream",
     "text": [
      "[SystemMessage(content=\"you're a good assistant.\\nyou always respond with a joke.\", additional_kwargs={}, response_metadata={}), HumanMessage(content=[{'type': 'text', 'text': \"i wonder why it's called langchain\"}, 'and who is harrison chasing anyways'], additional_kwargs={}, response_metadata={}), AIMessage(content='Well, I guess they thought \"WordRope\" and \"SentenceString\" just didn\\'t have the same ring to it!\\nWhy, he\\'s probably chasing after the last cup of coffee in the office!', additional_kwargs={}, response_metadata={})]\n"
     ]
    }
   ],
   "source": [
    "from langchain_core.messages import (\n",
    "    AIMessage,\n",
    "    HumanMessage,\n",
    "    SystemMessage,\n",
    "    merge_message_runs,\n",
    ")\n",
    "\n",
    "# Sample messages with consecutive messages of same type\n",
    "messages = [\n",
    "    SystemMessage(content=\"you're a good assistant.\"),\n",
    "    SystemMessage(content=\"you always respond with a joke.\"),\n",
    "    HumanMessage(\n",
    "        content=[{\"type\": \"text\", \"text\": \"i wonder why it's called langchain\"}]\n",
    "    ),\n",
    "    HumanMessage(content=\"and who is harrison chasing anyways\"),\n",
    "    AIMessage(\n",
    "        content='Well, I guess they thought \"WordRope\" and \"SentenceString\" just didn\\'t have the same ring to it!'\n",
    "    ),\n",
    "    AIMessage(\n",
    "        content=\"Why, he's probably chasing after the last cup of coffee in the office!\"\n",
    "    ),\n",
    "]\n",
    "\n",
    "# Merge consecutive messages\n",
    "merged = merge_message_runs(messages)\n",
    "print(merged)"
   ]
  }
 ],
 "metadata": {
  "kernelspec": {
   "display_name": "LangChain",
   "language": "python",
   "name": "python3"
  },
  "language_info": {
   "codemirror_mode": {
    "name": "ipython",
    "version": 3
   },
   "file_extension": ".py",
   "mimetype": "text/x-python",
   "name": "python",
   "nbconvert_exporter": "python",
   "pygments_lexer": "ipython3",
   "version": "3.12.11"
  }
 },
 "nbformat": 4,
 "nbformat_minor": 5
}
