{
 "cells": [
  {
   "cell_type": "markdown",
   "id": "6743a6db",
   "metadata": {},
   "source": [
    "# LLM Call\n"
   ]
  },
  {
   "cell_type": "code",
   "execution_count": null,
   "id": "e6dfe972",
   "metadata": {},
   "outputs": [],
   "source": [
    "from langgraph.graph import StateGraph, START, END\n",
    "from typing_extensions import TypedDict\n",
    "\n",
    "class MyGraphState(TypedDict):\n",
    "    count: int\n",
    "    msg: str\n",
    "\n",
    "# Define my node\n",
    "def counter(state: MyGraphState):\n",
    "    state[\"count\"] += 1\n",
    "    state[\"msg\"] = f\"Counter dunc has been called {state['count']} time(s).\"\n",
    "    return state\n",
    "\n",
    "workflow =StateGraph(MyGraphState)\n",
    "\n",
    "workflow.add_node(\"Node1\", counter)\n",
    "workflow.add_node(\"Node2\", counter)\n",
    "workflow.add_node(\"Node3\", counter)\n",
    "\n",
    "workflow.add_edge(START, \"Node1\")\n",
    "workflow.add_edge(\"Node1\", \"Node2\")\n",
    "workflow.add_edge(\"Node2\", \"Node3\")\n",
    "workflow.add_edge(\"Node3\", END)\n",
    "\n",
    "\n",
    "app = workflow.compile()"
   ]
  },
  {
   "cell_type": "code",
   "execution_count": null,
   "id": "56371036",
   "metadata": {},
   "outputs": [],
   "source": [
    "from IPython.display import Image, display\n",
    "png = app.get_graph().draw_mermaid_png()\n",
    "\n",
    "display(Image(png))"
   ]
  },
  {
   "cell_type": "code",
   "execution_count": null,
   "id": "45f776de",
   "metadata": {},
   "outputs": [],
   "source": [
    "app.invoke({\"count\":0, \"msg\":\"Hello\"})"
   ]
  },
  {
   "cell_type": "code",
   "execution_count": null,
   "id": "981877a4",
   "metadata": {},
   "outputs": [],
   "source": [
    "from typing import Annotated, TypedDict\n",
    "from langgraph.graph.message import add_messages\n",
    "from langgraph.graph import StateGraph, START, END\n",
    "from langchain_ollama import ChatOllama\n",
    "\n",
    "model = ChatOllama(model=\"llama3.1\")\n",
    "\n",
    "class State(TypedDict):\n",
    "    messages: Annotated[list, add_messages]\n",
    "\n",
    "def chatbot(state: State):\n",
    "    answer = model.invoke(state[\"messages\"])\n",
    "    return {\"messages\": [answer]}\n",
    "\n",
    "\n",
    "builder =StateGraph(State)\n",
    "builder.add_node(\"chatbot\", chatbot)\n",
    "builder.add_edge(START, \"chatbot\")\n",
    "builder.add_edge(\"chatbot\", END)\n",
    "\n",
    "graph = builder.compile()"
   ]
  },
  {
   "cell_type": "code",
   "execution_count": null,
   "id": "ce0e371b",
   "metadata": {},
   "outputs": [],
   "source": [
    "from IPython.display import Image, display\n",
    "\n",
    "display(Image(graph.get_graph().draw_mermaid_png()))"
   ]
  },
  {
   "cell_type": "code",
   "execution_count": null,
   "id": "17b43602",
   "metadata": {},
   "outputs": [],
   "source": [
    "from langchain_core.messages import AIMessage, HumanMessage, SystemMessage\n",
    "\n",
    "input = {\"messages\": [HumanMessage(\"hi!\")]}\n",
    "for chunk in graph.stream(input):\n",
    "    print(chunk)"
   ]
  },
  {
   "cell_type": "markdown",
   "id": "bc53828c",
   "metadata": {},
   "source": [
    "# #2 Chain"
   ]
  },
  {
   "cell_type": "code",
   "execution_count": 23,
   "id": "33311796",
   "metadata": {},
   "outputs": [],
   "source": [
    "from typing import Annotated,TypedDict\n",
    "\n",
    "from langgraph.graph.message import add_messages\n",
    "from langchain_ollama import ChatOllama\n",
    "from langchain_core.messages import HumanMessage,SystemMessage,AIMessage\n",
    "from langgraph.graph import START,END, StateGraph\n",
    "\n",
    "model_low_temp = ChatOllama(model=\"llama3.1\", temperature=0.1)\n",
    "model_high_temp = ChatOllama(model=\"llama3.1\", temperature=0.7)\n",
    "\n",
    "class State(TypedDict):\n",
    "    messages : Annotated[list, add_messages]\n",
    "    user_query : str\n",
    "    sql_query: str\n",
    "    sql_explanation: str\n",
    "\n",
    "class Input(TypedDict):\n",
    "    user_query: str\n",
    "    \n",
    "class Output(TypedDict):\n",
    "    sql_query:str\n",
    "    sql_explanation:str\n",
    "\n",
    "generate_prompt = SystemMessage(\n",
    "    \"\"\"You are a helpful data analyst who generates SQL queries for user based on their questions.\"\"\"\n",
    ")\n",
    "\n",
    "def generate_sql(state:State) -> State:\n",
    "    user_message = HumanMessage(state[\"user_query\"])\n",
    "    messages = [generate_prompt,*state[\"messages\"],user_message]\n",
    "    res = model_low_temp.invoke(messages)\n",
    "    return{\n",
    "        \"sql_query\": res.content,\n",
    "        \"messages\": [user_message, res]\n",
    "    }\n",
    "\n",
    "explain_prompt = SystemMessage(\n",
    "    \"\"\"You are a helpful data analyst whi explains SQL queries to users.\"\"\"\n",
    ")\n",
    "\n",
    "def explain_sql(state:State) -> State:\n",
    "    messages = [\n",
    "        explain_prompt,\n",
    "        *state[\"messages\"]\n",
    "    ]\n",
    "    res = model_high_temp.invoke(messages)\n",
    "    return{\n",
    "        \"sql_explanation\":res.content,\n",
    "        \"messages\": [res]\n",
    "\n",
    "    }"
   ]
  },
  {
   "cell_type": "code",
   "execution_count": 24,
   "id": "26a7e0b3",
   "metadata": {},
   "outputs": [
    {
     "name": "stderr",
     "output_type": "stream",
     "text": [
      "/tmp/ipykernel_15282/1431255507.py:1: LangGraphDeprecatedSinceV05: `input` is deprecated and will be removed. Please use `input_schema` instead. Deprecated in LangGraph V0.5 to be removed in V2.0.\n",
      "  builder = StateGraph(State, input=Input, output=Output)\n",
      "/tmp/ipykernel_15282/1431255507.py:1: LangGraphDeprecatedSinceV05: `output` is deprecated and will be removed. Please use `output_schema` instead. Deprecated in LangGraph V0.5 to be removed in V2.0.\n",
      "  builder = StateGraph(State, input=Input, output=Output)\n"
     ]
    }
   ],
   "source": [
    "builder = StateGraph(State, input=Input, output=Output)\n",
    "builder.add_node(\"generate_sql\", generate_sql)\n",
    "builder.add_node(\"explain_sql\", explain_sql)\n",
    "builder.add_edge(START, \"generate_sql\")\n",
    "builder.add_edge(\"generate_sql\",\"explain_sql\")\n",
    "builder.add_edge(\"explain_sql\", END)\n",
    "\n",
    "graph =builder.compile()"
   ]
  },
  {
   "cell_type": "code",
   "execution_count": 25,
   "id": "729dbd73",
   "metadata": {},
   "outputs": [
    {
     "data": {
      "image/png": "[encoded data removed]",
      "text/plain": [
       "<IPython.core.display.Image object>"
      ]
     },
     "metadata": {},
     "output_type": "display_data"
    }
   ],
   "source": [
    "from IPython.display import Image, display\n",
    "\n",
    "display(Image(graph.get_graph().draw_mermaid_png()))"
   ]
  },
  {
   "cell_type": "code",
   "execution_count": 26,
   "id": "406d8340",
   "metadata": {},
   "outputs": [
    {
     "data": {
      "text/plain": [
       "{'sql_query': 'Here\\'s an SQL query that will give you the total sales for each product:\\n\\n```sql\\nSELECT \\n  product_name, \\n  SUM(sales_amount) AS total_sales\\nFROM \\n  orders\\nGROUP BY \\n  product_name;\\n```\\n\\nThis query works as follows:\\n\\n- `SELECT` selects the columns we want to see in our results. In this case, we\\'re selecting the `product_name` and calculating the `total_sales` by summing up all sales amounts for each product.\\n- `FROM orders` specifies that we\\'re looking at data from the `orders` table.\\n- `GROUP BY product_name` groups the rows of the result set by the `product_name`, so we can calculate the total sales for each product.\\n\\nNote: This assumes you have a table named \"orders\" with columns named \"product_name\" and \"sales_amount\". If your column names are different, you\\'ll need to adjust the query accordingly.',\n",
       " 'sql_explanation': ''}"
      ]
     },
     "execution_count": 26,
     "metadata": {},
     "output_type": "execute_result"
    }
   ],
   "source": [
    "graph.invoke({\"user_query\": \"What is the total sales for each product?\"})"
   ]
  },
  {
   "cell_type": "markdown",
   "id": "cc5f6b39",
   "metadata": {},
   "source": [
    "# #3:Router"
   ]
  },
  {
   "cell_type": "code",
   "execution_count": 1,
   "id": "2d7ad42d",
   "metadata": {},
   "outputs": [
    {
     "ename": "NameError",
     "evalue": "name 'sample_docs' is not defined",
     "output_type": "error",
     "traceback": [
      "\u001b[31m---------------------------------------------------------------------------\u001b[39m",
      "\u001b[31mNameError\u001b[39m                                 Traceback (most recent call last)",
      "\u001b[36mCell\u001b[39m\u001b[36m \u001b[39m\u001b[32mIn[1]\u001b[39m\u001b[32m, line 28\u001b[39m\n\u001b[32m     25\u001b[39m     answer: \u001b[38;5;28mstr\u001b[39m\n\u001b[32m     27\u001b[39m \u001b[38;5;66;03m# Initialize vector stores\u001b[39;00m\n\u001b[32m---> \u001b[39m\u001b[32m28\u001b[39m medical_records_store = InMemoryVectorStore.from_documents(\u001b[43msample_docs\u001b[49m, embeddings)\n\u001b[32m     29\u001b[39m medical_records_retriever = medical_records_store.as_retriever()\n\u001b[32m     31\u001b[39m insurance_faqs_store = InMemoryVectorStore.from_documents(sample_docs, embeddings)\n",
      "\u001b[31mNameError\u001b[39m: name 'sample_docs' is not defined"
     ]
    }
   ],
   "source": [
    "from typing import Annotated, TypedDict, Literal\n",
    "from langchain_core.documents import Document\n",
    "from langchain_core.messages import HumanMessage, SystemMessage\n",
    "from langchain_core.vectorstores.in_memory import InMemoryVectorStore\n",
    "from langchain_ollama import ChatOllama, OllamaEmbeddings\n",
    "\n",
    "from langgraph.graph import END,START, StateGraph\n",
    "from langgraph.graph.message import add_messages\n",
    "\n",
    "embedding = OllamaEmbeddings(model=\"llama3.1\")\n",
    "model_low_temp = ChatOllama(model=\"llama3.1\", temperature=0.1)\n",
    "model_high_temp = ChatOllama(model=\"llama3.1\", temperature=0.7)\n",
    "\n",
    "class State(TypedDict):\n",
    "    messages : Annotated[list, add_messages]\n",
    "    user_query: str\n",
    "    domain: Literal[\"records\", \"insurance\"]\n",
    "    documents: list[Document]\n",
    "    answer: str\n",
    "class Input(TypedDict):\n",
    "    user_query: str\n",
    "\n",
    "class Output(TypedDict):\n",
    "    documents: list[Document]\n",
    "    answer: str\n",
    "\n",
    "# Initialize vector stores\n",
    "medical_records_store = InMemoryVectorStore.from_documents(sample_docs, embeddings)\n",
    "medical_records_retriever = medical_records_store.as_retriever()\n",
    "\n",
    "insurance_faqs_store = InMemoryVectorStore.from_documents(sample_docs, embeddings)\n",
    "insurance_faqs_retriever = insurance_faqs_store.as_retriever()\n",
    "\n",
    "router_prompt = SystemMessage(\n",
    "    \"\"\"You need to decide which domain to route the user query to. You have two domains to choose from:\n",
    "- records: contains medical records of the patient, such as diagnosis, treatment, and prescriptions.\n",
    "- insurance: contains frequently asked questions about insurance policies, claims, and coverage.\n",
    "\n",
    "Output only the domain name.\"\"\"\n",
    ")"
   ]
  }
 ],
 "metadata": {
  "kernelspec": {
   "display_name": "LangChain",
   "language": "python",
   "name": "python3"
  },
  "language_info": {
   "codemirror_mode": {
    "name": "ipython",
    "version": 3
   },
   "file_extension": ".py",
   "mimetype": "text/x-python",
   "name": "python",
   "nbconvert_exporter": "python",
   "pygments_lexer": "ipython3",
   "version": "3.12.11"
  }
 },
 "nbformat": 4,
 "nbformat_minor": 5
}
